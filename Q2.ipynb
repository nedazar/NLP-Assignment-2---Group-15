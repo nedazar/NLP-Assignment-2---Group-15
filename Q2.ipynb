{
 "cells": [
  {
   "cell_type": "code",
   "execution_count": 410,
   "id": "77b447c0",
   "metadata": {},
   "outputs": [],
   "source": [
    "import pandas as pd\n",
    "import numpy as np\n",
    "import random\n",
    "from copy import deepcopy\n",
    "import seaborn as sn\n",
    "import matplotlib.pyplot as plt\n",
    "from sklearn.metrics import confusion_matrix\n",
    "from sklearn.metrics import f1_score\n",
    "from sklearn.metrics import average_precision_score\n",
    "from sklearn.metrics import recall_score , classification_report"
   ]
  },
  {
   "cell_type": "markdown",
   "id": "0a1fdff6",
   "metadata": {},
   "source": [
    "# Loading Training data"
   ]
  },
  {
   "cell_type": "code",
   "execution_count": 411,
   "id": "20dba197",
   "metadata": {
    "scrolled": true
   },
   "outputs": [
    {
     "data": {
      "text/html": [
       "<div>\n",
       "<style scoped>\n",
       "    .dataframe tbody tr th:only-of-type {\n",
       "        vertical-align: middle;\n",
       "    }\n",
       "\n",
       "    .dataframe tbody tr th {\n",
       "        vertical-align: top;\n",
       "    }\n",
       "\n",
       "    .dataframe thead th {\n",
       "        text-align: right;\n",
       "    }\n",
       "</style>\n",
       "<table border=\"1\" class=\"dataframe\">\n",
       "  <thead>\n",
       "    <tr style=\"text-align: right;\">\n",
       "      <th></th>\n",
       "      <th>id</th>\n",
       "      <th>text</th>\n",
       "      <th>labels</th>\n",
       "    </tr>\n",
       "  </thead>\n",
       "  <tbody>\n",
       "    <tr>\n",
       "      <th>0</th>\n",
       "      <td>86426</td>\n",
       "      <td>@USER She should ask a few native Americans wh...</td>\n",
       "      <td>1</td>\n",
       "    </tr>\n",
       "    <tr>\n",
       "      <th>1</th>\n",
       "      <td>90194</td>\n",
       "      <td>@USER @USER Go home you’re drunk!!! @USER #MAG...</td>\n",
       "      <td>1</td>\n",
       "    </tr>\n",
       "    <tr>\n",
       "      <th>2</th>\n",
       "      <td>16820</td>\n",
       "      <td>Amazon is investigating Chinese employees who ...</td>\n",
       "      <td>0</td>\n",
       "    </tr>\n",
       "    <tr>\n",
       "      <th>3</th>\n",
       "      <td>62688</td>\n",
       "      <td>@USER Someone should'veTaken\" this piece of sh...</td>\n",
       "      <td>1</td>\n",
       "    </tr>\n",
       "    <tr>\n",
       "      <th>4</th>\n",
       "      <td>43605</td>\n",
       "      <td>@USER @USER Obama wanted liberals &amp;amp; illega...</td>\n",
       "      <td>0</td>\n",
       "    </tr>\n",
       "    <tr>\n",
       "      <th>...</th>\n",
       "      <td>...</td>\n",
       "      <td>...</td>\n",
       "      <td>...</td>\n",
       "    </tr>\n",
       "    <tr>\n",
       "      <th>13235</th>\n",
       "      <td>95338</td>\n",
       "      <td>@USER Sometimes I get strong vibes from people...</td>\n",
       "      <td>1</td>\n",
       "    </tr>\n",
       "    <tr>\n",
       "      <th>13236</th>\n",
       "      <td>67210</td>\n",
       "      <td>Benidorm ✅  Creamfields ✅  Maga ✅   Not too sh...</td>\n",
       "      <td>0</td>\n",
       "    </tr>\n",
       "    <tr>\n",
       "      <th>13237</th>\n",
       "      <td>82921</td>\n",
       "      <td>@USER And why report this garbage.  We don't g...</td>\n",
       "      <td>1</td>\n",
       "    </tr>\n",
       "    <tr>\n",
       "      <th>13238</th>\n",
       "      <td>27429</td>\n",
       "      <td>@USER Pussy</td>\n",
       "      <td>1</td>\n",
       "    </tr>\n",
       "    <tr>\n",
       "      <th>13239</th>\n",
       "      <td>46552</td>\n",
       "      <td>#Spanishrevenge vs. #justice #HumanRights and ...</td>\n",
       "      <td>0</td>\n",
       "    </tr>\n",
       "  </tbody>\n",
       "</table>\n",
       "<p>13240 rows × 3 columns</p>\n",
       "</div>"
      ],
      "text/plain": [
       "          id                                               text  labels\n",
       "0      86426  @USER She should ask a few native Americans wh...       1\n",
       "1      90194  @USER @USER Go home you’re drunk!!! @USER #MAG...       1\n",
       "2      16820  Amazon is investigating Chinese employees who ...       0\n",
       "3      62688  @USER Someone should'veTaken\" this piece of sh...       1\n",
       "4      43605  @USER @USER Obama wanted liberals &amp; illega...       0\n",
       "...      ...                                                ...     ...\n",
       "13235  95338  @USER Sometimes I get strong vibes from people...       1\n",
       "13236  67210  Benidorm ✅  Creamfields ✅  Maga ✅   Not too sh...       0\n",
       "13237  82921  @USER And why report this garbage.  We don't g...       1\n",
       "13238  27429                                        @USER Pussy       1\n",
       "13239  46552  #Spanishrevenge vs. #justice #HumanRights and ...       0\n",
       "\n",
       "[13240 rows x 3 columns]"
      ]
     },
     "execution_count": 411,
     "metadata": {},
     "output_type": "execute_result"
    }
   ],
   "source": [
    "olid_train = pd.read_csv(\"C:/Users/ADWITIYA MANDAL/Desktop/Study Docs/Study documents/Natural Language Processing/Assignment 2/Assignment 2_IntrotoNLP2022_data/Assignment 2_IntrotoNLP2022_data/olid-train.csv\")\n",
    "olid_train"
   ]
  },
  {
   "cell_type": "markdown",
   "id": "15f6d08f",
   "metadata": {},
   "source": [
    "# Loading test data"
   ]
  },
  {
   "cell_type": "code",
   "execution_count": 412,
   "id": "b643c985",
   "metadata": {},
   "outputs": [
    {
     "data": {
      "text/html": [
       "<div>\n",
       "<style scoped>\n",
       "    .dataframe tbody tr th:only-of-type {\n",
       "        vertical-align: middle;\n",
       "    }\n",
       "\n",
       "    .dataframe tbody tr th {\n",
       "        vertical-align: top;\n",
       "    }\n",
       "\n",
       "    .dataframe thead th {\n",
       "        text-align: right;\n",
       "    }\n",
       "</style>\n",
       "<table border=\"1\" class=\"dataframe\">\n",
       "  <thead>\n",
       "    <tr style=\"text-align: right;\">\n",
       "      <th></th>\n",
       "      <th>id</th>\n",
       "      <th>text</th>\n",
       "      <th>labels</th>\n",
       "    </tr>\n",
       "  </thead>\n",
       "  <tbody>\n",
       "    <tr>\n",
       "      <th>0</th>\n",
       "      <td>15923</td>\n",
       "      <td>#WhoIsQ #WheresTheServer #DumpNike #DECLASFISA...</td>\n",
       "      <td>1</td>\n",
       "    </tr>\n",
       "    <tr>\n",
       "      <th>1</th>\n",
       "      <td>27014</td>\n",
       "      <td>#ConstitutionDay is revered by Conservatives, ...</td>\n",
       "      <td>0</td>\n",
       "    </tr>\n",
       "    <tr>\n",
       "      <th>2</th>\n",
       "      <td>30530</td>\n",
       "      <td>#FOXNews #NRA #MAGA #POTUS #TRUMP #2ndAmendmen...</td>\n",
       "      <td>0</td>\n",
       "    </tr>\n",
       "    <tr>\n",
       "      <th>3</th>\n",
       "      <td>13876</td>\n",
       "      <td>#Watching #Boomer getting the news that she is...</td>\n",
       "      <td>0</td>\n",
       "    </tr>\n",
       "    <tr>\n",
       "      <th>4</th>\n",
       "      <td>60133</td>\n",
       "      <td>#NoPasaran: Unity demo to oppose the far-right...</td>\n",
       "      <td>1</td>\n",
       "    </tr>\n",
       "    <tr>\n",
       "      <th>...</th>\n",
       "      <td>...</td>\n",
       "      <td>...</td>\n",
       "      <td>...</td>\n",
       "    </tr>\n",
       "    <tr>\n",
       "      <th>855</th>\n",
       "      <td>73439</td>\n",
       "      <td>#DespicableDems lie again about rifles. Dem Di...</td>\n",
       "      <td>1</td>\n",
       "    </tr>\n",
       "    <tr>\n",
       "      <th>856</th>\n",
       "      <td>25657</td>\n",
       "      <td>#MeetTheSpeakers 🙌 @USER will present in our e...</td>\n",
       "      <td>0</td>\n",
       "    </tr>\n",
       "    <tr>\n",
       "      <th>857</th>\n",
       "      <td>67018</td>\n",
       "      <td>3 people just unfollowed me for talking about ...</td>\n",
       "      <td>1</td>\n",
       "    </tr>\n",
       "    <tr>\n",
       "      <th>858</th>\n",
       "      <td>50665</td>\n",
       "      <td>#WednesdayWisdom Antifa calls the right fascis...</td>\n",
       "      <td>0</td>\n",
       "    </tr>\n",
       "    <tr>\n",
       "      <th>859</th>\n",
       "      <td>24583</td>\n",
       "      <td>#Kavanaugh typical #liberals , #Democrats URL</td>\n",
       "      <td>0</td>\n",
       "    </tr>\n",
       "  </tbody>\n",
       "</table>\n",
       "<p>860 rows × 3 columns</p>\n",
       "</div>"
      ],
      "text/plain": [
       "        id                                               text  labels\n",
       "0    15923  #WhoIsQ #WheresTheServer #DumpNike #DECLASFISA...       1\n",
       "1    27014  #ConstitutionDay is revered by Conservatives, ...       0\n",
       "2    30530  #FOXNews #NRA #MAGA #POTUS #TRUMP #2ndAmendmen...       0\n",
       "3    13876  #Watching #Boomer getting the news that she is...       0\n",
       "4    60133  #NoPasaran: Unity demo to oppose the far-right...       1\n",
       "..     ...                                                ...     ...\n",
       "855  73439  #DespicableDems lie again about rifles. Dem Di...       1\n",
       "856  25657  #MeetTheSpeakers 🙌 @USER will present in our e...       0\n",
       "857  67018  3 people just unfollowed me for talking about ...       1\n",
       "858  50665  #WednesdayWisdom Antifa calls the right fascis...       0\n",
       "859  24583      #Kavanaugh typical #liberals , #Democrats URL       0\n",
       "\n",
       "[860 rows x 3 columns]"
      ]
     },
     "execution_count": 412,
     "metadata": {},
     "output_type": "execute_result"
    }
   ],
   "source": [
    "olid_test = pd.read_csv(\"C:/Users/ADWITIYA MANDAL/Desktop/Study Docs/Study documents/Natural Language Processing/Assignment 2/Assignment 2_IntrotoNLP2022_data/Assignment 2_IntrotoNLP2022_data/olid-test.csv\")\n",
    "olid_test"
   ]
  },
  {
   "cell_type": "code",
   "execution_count": 413,
   "id": "1ff6de9c",
   "metadata": {},
   "outputs": [
    {
     "name": "stdout",
     "output_type": "stream",
     "text": [
      "860\n"
     ]
    }
   ],
   "source": [
    "len_test = len(olid_test[\"labels\"])\n",
    "print(len_test)"
   ]
  },
  {
   "cell_type": "markdown",
   "id": "1b2e8d65",
   "metadata": {},
   "source": [
    "## Random Baseline"
   ]
  },
  {
   "cell_type": "code",
   "execution_count": 414,
   "id": "7841d312",
   "metadata": {},
   "outputs": [],
   "source": [
    "rand_list = []\n",
    "\n",
    "for i in range(len_test):\n",
    "    rand_list.append(random.choice([0,1]))"
   ]
  },
  {
   "cell_type": "code",
   "execution_count": 415,
   "id": "08ff8d14",
   "metadata": {},
   "outputs": [
    {
     "name": "stdout",
     "output_type": "stream",
     "text": [
      "     rand_val\n",
      "0           0\n",
      "1           0\n",
      "2           0\n",
      "3           1\n",
      "4           1\n",
      "..        ...\n",
      "855         0\n",
      "856         1\n",
      "857         0\n",
      "858         1\n",
      "859         1\n",
      "\n",
      "[860 rows x 1 columns]\n"
     ]
    }
   ],
   "source": [
    "df = pd.DataFrame({'rand_val':rand_list})\n",
    "print(df)"
   ]
  },
  {
   "cell_type": "code",
   "execution_count": 416,
   "id": "206d7225",
   "metadata": {
    "scrolled": true
   },
   "outputs": [
    {
     "name": "stdout",
     "output_type": "stream",
     "text": [
      "Predicted    0    1\n",
      "Actual             \n",
      "0          293  327\n",
      "1          122  118\n",
      "\n",
      "\n"
     ]
    },
    {
     "data": {
      "image/png": "[encoded data removed]",
      "text/plain": [
       "<Figure size 432x288 with 2 Axes>"
      ]
     },
     "metadata": {
      "needs_background": "light"
     },
     "output_type": "display_data"
    }
   ],
   "source": [
    "confusion_matrix = pd.crosstab(olid_test['labels'], df['rand_val'], rownames=['Actual'], colnames=['Predicted'])\n",
    "\n",
    "print(confusion_matrix)\n",
    "print('\\n')\n",
    "ax = sn.heatmap(confusion_matrix, annot=True, cmap = 'Blues')\n",
    "ax.set_xlabel('\\nPredicted Values')\n",
    "ax.set_ylabel('\\nActual Values')\n",
    "ax.xaxis.set_ticklabels(['False','True'])\n",
    "ax.yaxis.set_ticklabels(['False','True'])\n",
    "\n",
    "plt.show()"
   ]
  },
  {
   "cell_type": "code",
   "execution_count": 417,
   "id": "e2d0f325",
   "metadata": {},
   "outputs": [
    {
     "data": {
      "text/html": [
       "<div>\n",
       "<style scoped>\n",
       "    .dataframe tbody tr th:only-of-type {\n",
       "        vertical-align: middle;\n",
       "    }\n",
       "\n",
       "    .dataframe tbody tr th {\n",
       "        vertical-align: top;\n",
       "    }\n",
       "\n",
       "    .dataframe thead th {\n",
       "        text-align: right;\n",
       "    }\n",
       "</style>\n",
       "<table border=\"1\" class=\"dataframe\">\n",
       "  <thead>\n",
       "    <tr style=\"text-align: right;\">\n",
       "      <th>Predicted</th>\n",
       "      <th>0</th>\n",
       "      <th>1</th>\n",
       "    </tr>\n",
       "    <tr>\n",
       "      <th>Actual</th>\n",
       "      <th></th>\n",
       "      <th></th>\n",
       "    </tr>\n",
       "  </thead>\n",
       "  <tbody>\n",
       "    <tr>\n",
       "      <th>0</th>\n",
       "      <td>293</td>\n",
       "      <td>327</td>\n",
       "    </tr>\n",
       "    <tr>\n",
       "      <th>1</th>\n",
       "      <td>122</td>\n",
       "      <td>118</td>\n",
       "    </tr>\n",
       "  </tbody>\n",
       "</table>\n",
       "</div>"
      ],
      "text/plain": [
       "Predicted    0    1\n",
       "Actual             \n",
       "0          293  327\n",
       "1          122  118"
      ]
     },
     "execution_count": 417,
     "metadata": {},
     "output_type": "execute_result"
    }
   ],
   "source": [
    "confusion_matrix"
   ]
  },
  {
   "cell_type": "code",
   "execution_count": 418,
   "id": "5d5e9656",
   "metadata": {},
   "outputs": [
    {
     "data": {
      "text/plain": [
       "array([[293, 327],\n",
       "       [122, 118]], dtype=int64)"
      ]
     },
     "execution_count": 418,
     "metadata": {},
     "output_type": "execute_result"
    }
   ],
   "source": [
    "confusion_matrix = np.array(confusion_matrix)\n",
    "confusion_matrix"
   ]
  },
  {
   "cell_type": "code",
   "execution_count": 419,
   "id": "ce46e497",
   "metadata": {},
   "outputs": [
    {
     "name": "stdout",
     "output_type": "stream",
     "text": [
      "True positives: 118\n",
      "True negatives: 293\n",
      "False positives: 327\n",
      "False Negatives: 122\n"
     ]
    }
   ],
   "source": [
    "TN = confusion_matrix[0][0]\n",
    "TP = confusion_matrix[1][1]\n",
    "FP = confusion_matrix[0][1]\n",
    "FN = confusion_matrix[1][0]\n",
    "\n",
    "print(\"True positives:\",TP)\n",
    "print(\"True negatives:\",TN)\n",
    "print(\"False positives:\",FP)\n",
    "print(\"False Negatives:\",FN)"
   ]
  },
  {
   "cell_type": "code",
   "execution_count": 420,
   "id": "cbf6cd42",
   "metadata": {},
   "outputs": [
    {
     "name": "stdout",
     "output_type": "stream",
     "text": [
      "Classification report: \n",
      "               precision    recall  f1-score   support\n",
      "\n",
      "           0       0.71      0.47      0.57       620\n",
      "           1       0.27      0.49      0.34       240\n",
      "\n",
      "    accuracy                           0.48       860\n",
      "   macro avg       0.49      0.48      0.46       860\n",
      "weighted avg       0.58      0.48      0.50       860\n",
      "\n"
     ]
    }
   ],
   "source": [
    "matrix_rand = classification_report(olid_test['labels'], df['rand_val'],labels = [0,1])\n",
    "print('Classification report: \\n', matrix_rand)"
   ]
  },
  {
   "cell_type": "markdown",
   "id": "c180d4df",
   "metadata": {},
   "source": [
    "## Majority Baseline"
   ]
  },
  {
   "cell_type": "code",
   "execution_count": 421,
   "id": "5eca3d54",
   "metadata": {},
   "outputs": [],
   "source": [
    "max_label = olid_train['labels'].value_counts().idxmax()\n",
    "\n",
    "majority_list = [max_label] * len_test\n",
    "majority_list = pd.DataFrame({'majority_val' : majority_list})"
   ]
  },
  {
   "cell_type": "code",
   "execution_count": 422,
   "id": "a66f9c32",
   "metadata": {},
   "outputs": [
    {
     "name": "stdout",
     "output_type": "stream",
     "text": [
      "The label with the maximum occurances in the training set:  0\n"
     ]
    }
   ],
   "source": [
    "print(\"The label with the maximum occurances in the training set: \" , max_label)"
   ]
  },
  {
   "cell_type": "code",
   "execution_count": 423,
   "id": "b3f684e6",
   "metadata": {},
   "outputs": [
    {
     "data": {
      "text/plain": [
       "0    8840\n",
       "1    4400\n",
       "Name: labels, dtype: int64"
      ]
     },
     "execution_count": 423,
     "metadata": {},
     "output_type": "execute_result"
    }
   ],
   "source": [
    "olid_train['labels'].value_counts()"
   ]
  },
  {
   "cell_type": "code",
   "execution_count": 424,
   "id": "9566009c",
   "metadata": {},
   "outputs": [
    {
     "name": "stdout",
     "output_type": "stream",
     "text": [
      "Predicted    0\n",
      "Actual        \n",
      "0          620\n",
      "1          240\n",
      "\n",
      "\n"
     ]
    },
    {
     "data": {
      "image/png": "[encoded data removed]",
      "text/plain": [
       "<Figure size 432x288 with 2 Axes>"
      ]
     },
     "metadata": {
      "needs_background": "light"
     },
     "output_type": "display_data"
    }
   ],
   "source": [
    "#Majority Baseline Performance\n",
    "\n",
    "confusion_matrix_maj = pd.crosstab(olid_test['labels'], majority_list['majority_val'] ,rownames=['Actual'], colnames=['Predicted'])\n",
    "\n",
    "print(confusion_matrix_maj)\n",
    "print('\\n')\n",
    "ax = sn.heatmap(confusion_matrix_maj, annot=True, cmap = 'Blues')\n",
    "ax.set_xlabel('\\nPredicted Values')\n",
    "ax.set_ylabel('\\nActual Values')\n",
    "\n",
    "plt.show()"
   ]
  },
  {
   "cell_type": "code",
   "execution_count": 425,
   "id": "dd10f0c3",
   "metadata": {},
   "outputs": [
    {
     "data": {
      "text/plain": [
       "array([[620,   0],\n",
       "       [240,   0]], dtype=int64)"
      ]
     },
     "execution_count": 425,
     "metadata": {},
     "output_type": "execute_result"
    }
   ],
   "source": [
    "# Modifying the array by inserting empty values in the Predicted 1 grid\n",
    "\n",
    "confusion_matrix_maj = np.array(confusion_matrix_maj)\n",
    "confusion_matrix_maj = np.insert(confusion_matrix_maj,1,np.array((0,0)),1)\n",
    "confusion_matrix_maj"
   ]
  },
  {
   "cell_type": "code",
   "execution_count": 426,
   "id": "e6759478",
   "metadata": {},
   "outputs": [
    {
     "name": "stdout",
     "output_type": "stream",
     "text": [
      "True positives: 0\n",
      "True negatives: 620\n",
      "False positives: 0\n",
      "False Negatives: 240\n"
     ]
    }
   ],
   "source": [
    "TN = confusion_matrix_maj[0][0]\n",
    "TP = confusion_matrix_maj[1][1]\n",
    "FP = confusion_matrix_maj[0][1]\n",
    "FN = confusion_matrix_maj[1][0]\n",
    "\n",
    "print(\"True positives:\",TP)\n",
    "print(\"True negatives:\",TN)\n",
    "print(\"False positives:\",FP)\n",
    "print(\"False Negatives:\",FN)"
   ]
  },
  {
   "cell_type": "code",
   "execution_count": 427,
   "id": "af6f91d2",
   "metadata": {},
   "outputs": [
    {
     "name": "stdout",
     "output_type": "stream",
     "text": [
      "Classification report: \n",
      "               precision    recall  f1-score   support\n",
      "\n",
      "           0       0.72      1.00      0.84       620\n",
      "           1       0.00      0.00      0.00       240\n",
      "\n",
      "    accuracy                           0.72       860\n",
      "   macro avg       0.36      0.50      0.42       860\n",
      "weighted avg       0.52      0.72      0.60       860\n",
      "\n"
     ]
    },
    {
     "name": "stderr",
     "output_type": "stream",
     "text": [
      "C:\\Users\\ADWITIYA MANDAL\\anaconda3\\envs\\tensorflow\\lib\\site-packages\\sklearn\\metrics\\_classification.py:1318: UndefinedMetricWarning: Precision and F-score are ill-defined and being set to 0.0 in labels with no predicted samples. Use `zero_division` parameter to control this behavior.\n",
      "  _warn_prf(average, modifier, msg_start, len(result))\n",
      "C:\\Users\\ADWITIYA MANDAL\\anaconda3\\envs\\tensorflow\\lib\\site-packages\\sklearn\\metrics\\_classification.py:1318: UndefinedMetricWarning: Precision and F-score are ill-defined and being set to 0.0 in labels with no predicted samples. Use `zero_division` parameter to control this behavior.\n",
      "  _warn_prf(average, modifier, msg_start, len(result))\n",
      "C:\\Users\\ADWITIYA MANDAL\\anaconda3\\envs\\tensorflow\\lib\\site-packages\\sklearn\\metrics\\_classification.py:1318: UndefinedMetricWarning: Precision and F-score are ill-defined and being set to 0.0 in labels with no predicted samples. Use `zero_division` parameter to control this behavior.\n",
      "  _warn_prf(average, modifier, msg_start, len(result))\n"
     ]
    }
   ],
   "source": [
    "matrix_maj = classification_report(olid_test['labels'], majority_list['majority_val'] ,labels = [0,1])\n",
    "print('Classification report: \\n', matrix_maj)"
   ]
  }
 ],
 "metadata": {
  "kernelspec": {
   "display_name": "Python 3.6 (tensorflow)",
   "language": "python",
   "name": "tensorflow"
  },
  "language_info": {
   "codemirror_mode": {
    "name": "ipython",
    "version": 3
   },
   "file_extension": ".py",
   "mimetype": "text/x-python",
   "name": "python",
   "nbconvert_exporter": "python",
   "pygments_lexer": "ipython3",
   "version": "3.10.4"
  }
 },
 "nbformat": 4,
 "nbformat_minor": 5
}
