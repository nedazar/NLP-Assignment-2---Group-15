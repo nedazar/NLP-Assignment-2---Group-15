{
 "cells": [
  {
   "cell_type": "code",
   "execution_count": 1,
   "id": "e5d35b41",
   "metadata": {},
   "outputs": [],
   "source": [
    "from checklist.editor import Editor"
   ]
  },
  {
   "cell_type": "code",
   "execution_count": 2,
   "id": "03dfcc36",
   "metadata": {},
   "outputs": [],
   "source": [
    "editor = Editor()"
   ]
  },
  {
   "cell_type": "code",
   "execution_count": 18,
   "id": "6a91de25",
   "metadata": {},
   "outputs": [
    {
     "data": {
      "text/plain": [
       "['it', 'capitalism', 'Trump', 'racism']"
      ]
     },
     "execution_count": 18,
     "metadata": {},
     "output_type": "execute_result"
    }
   ],
   "source": [
    "editor.suggest(\"I hate {mask}\")[:4]"
   ]
  },
  {
   "cell_type": "code",
   "execution_count": 19,
   "id": "00d1ac0c",
   "metadata": {},
   "outputs": [
    {
     "data": {
      "text/plain": [
       "['them', 'you', 'him', 'people']"
      ]
     },
     "execution_count": 19,
     "metadata": {},
     "output_type": "execute_result"
    }
   ],
   "source": [
    "editor.suggest(\"I don't hate {mask}\")[:4]"
   ]
  },
  {
   "cell_type": "markdown",
   "id": "062441e3",
   "metadata": {},
   "source": [
    "## Refer to `Colab_Q5_Q7` notebook for the rest of this exercise."
   ]
  }
 ],
 "metadata": {
  "kernelspec": {
   "display_name": "venv",
   "language": "python",
   "name": "venv"
  },
  "language_info": {
   "codemirror_mode": {
    "name": "ipython",
    "version": 3
   },
   "file_extension": ".py",
   "mimetype": "text/x-python",
   "name": "python",
   "nbconvert_exporter": "python",
   "pygments_lexer": "ipython3",
   "version": "3.8.9"
  }
 },
 "nbformat": 4,
 "nbformat_minor": 5
}
