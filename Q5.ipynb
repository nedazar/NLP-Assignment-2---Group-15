{
 "cells": [
  {
   "cell_type": "markdown",
   "id": "fea983c6",
   "metadata": {},
   "source": [
    "# Question 5"
   ]
  },
  {
   "cell_type": "code",
   "execution_count": 62,
   "id": "9593f34c",
   "metadata": {},
   "outputs": [
    {
     "name": "stderr",
     "output_type": "stream",
     "text": [
      "[nltk_data] Downloading package omw-1.4 to\n",
      "[nltk_data]     /Users/nedim.azar/nltk_data...\n",
      "[nltk_data]   Package omw-1.4 is already up-to-date!\n"
     ]
    }
   ],
   "source": [
    "import numpy as np\n",
    "import pandas as pd\n",
    "import nltk\n",
    "import torch\n",
    "nltk.download('omw-1.4')\n",
    "import checklist\n",
    "from copy import deepcopy\n",
    "from checklist.editor import Editor\n",
    "from checklist.perturb import Perturb\n",
    "from sklearn.metrics import precision_score, recall_score, f1_score, classification_report, confusion_matrix\n",
    "np.random.seed(42)"
   ]
  },
  {
   "cell_type": "code",
   "execution_count": 2,
   "id": "d93d1f94",
   "metadata": {},
   "outputs": [],
   "source": [
    "# Loading the subset data\n",
    "df = pd.read_csv('data/olid-subset-diagnostic-tests.csv')\n",
    "\n",
    "# Creating a version with typos\n",
    "df_typos = deepcopy(df)\n",
    "df_typos['text'] = df['text'].apply(Perturb.add_typos, args=(5,))\n",
    "\n",
    "df.to_csv('data/no_typos.csv')\n",
    "df_typos.to_csv('data/typos.csv')"
   ]
  },
  {
   "cell_type": "markdown",
   "id": "fe680bff",
   "metadata": {},
   "source": [
    "## For the predictions on the typo data refer to the `Colab"
   ]
  },
  {
   "cell_type": "markdown",
   "id": "21659d1f",
   "metadata": {},
   "source": [
    "### We got the predictions on Google colab because it wouldn't work locally due to GPU and CUDA issues. We load those predictions in..."
   ]
  },
  {
   "cell_type": "code",
   "execution_count": 3,
   "id": "edd38a68",
   "metadata": {},
   "outputs": [],
   "source": [
    "predictions = pd.read_csv('predictions/No_Typos_Prediction.csv').drop(['Unnamed: 0'], axis=1)\n",
    "\n",
    "predictions_typos = pd.read_csv('predictions/typos.csv').drop(['Unnamed: 0'], axis=1)\n",
    "\n",
    "y_true = predictions['labels']\n",
    "y_pred = predictions['Predictions']\n",
    "y_pred_typos = predictions_typos['Predictions']\n",
    "pos_label = 1"
   ]
  },
  {
   "cell_type": "markdown",
   "id": "dda2b8b8",
   "metadata": {},
   "source": [
    "## Precision Scores"
   ]
  },
  {
   "cell_type": "code",
   "execution_count": 4,
   "id": "45e155f1",
   "metadata": {},
   "outputs": [
    {
     "data": {
      "text/plain": [
       "0.95"
      ]
     },
     "execution_count": 4,
     "metadata": {},
     "output_type": "execute_result"
    }
   ],
   "source": [
    "# No Typos\n",
    "round(precision_score(y_true=y_true, y_pred=y_pred, pos_label=pos_label), 2)"
   ]
  },
  {
   "cell_type": "code",
   "execution_count": 5,
   "id": "03f59df3",
   "metadata": {},
   "outputs": [
    {
     "data": {
      "text/plain": [
       "0.92"
      ]
     },
     "execution_count": 5,
     "metadata": {},
     "output_type": "execute_result"
    }
   ],
   "source": [
    "# Typos\n",
    "round(precision_score(y_true=y_true, y_pred=y_pred_typos, pos_label=pos_label), 2)"
   ]
  },
  {
   "cell_type": "markdown",
   "id": "2c9600e1",
   "metadata": {},
   "source": [
    "## Recall Scores"
   ]
  },
  {
   "cell_type": "code",
   "execution_count": 6,
   "id": "5f8fa90b",
   "metadata": {},
   "outputs": [
    {
     "data": {
      "text/plain": [
       "0.7"
      ]
     },
     "execution_count": 6,
     "metadata": {},
     "output_type": "execute_result"
    }
   ],
   "source": [
    "# No Typos\n",
    "round(recall_score(y_true=y_true, y_pred=y_pred, pos_label=pos_label), 2)"
   ]
  },
  {
   "cell_type": "code",
   "execution_count": 7,
   "id": "f17635e2",
   "metadata": {},
   "outputs": [
    {
     "data": {
      "text/plain": [
       "0.66"
      ]
     },
     "execution_count": 7,
     "metadata": {},
     "output_type": "execute_result"
    }
   ],
   "source": [
    "# Typos\n",
    "round(recall_score(y_true=y_true, y_pred=y_pred_typos, pos_label=pos_label), 2)"
   ]
  },
  {
   "cell_type": "markdown",
   "id": "862d85d4",
   "metadata": {},
   "source": [
    "## F1 Scores (Macro)"
   ]
  },
  {
   "cell_type": "code",
   "execution_count": 8,
   "id": "6c2be96a",
   "metadata": {},
   "outputs": [
    {
     "data": {
      "text/plain": [
       "0.83"
      ]
     },
     "execution_count": 8,
     "metadata": {},
     "output_type": "execute_result"
    }
   ],
   "source": [
    "# No Typos\n",
    "round(f1_score(y_true=y_true, y_pred=y_pred, pos_label=pos_label, average='macro'), 2)"
   ]
  },
  {
   "cell_type": "code",
   "execution_count": 9,
   "id": "8fede6ec",
   "metadata": {},
   "outputs": [
    {
     "data": {
      "text/plain": [
       "0.8"
      ]
     },
     "execution_count": 9,
     "metadata": {},
     "output_type": "execute_result"
    }
   ],
   "source": [
    "# Typos\n",
    "round(f1_score(y_true=y_true, y_pred=y_pred_typos, pos_label=pos_label, average='macro'), 2)"
   ]
  },
  {
   "cell_type": "markdown",
   "id": "fecba3ed",
   "metadata": {},
   "source": [
    "## How many messages were identified correctly in the original dataset, but erroneously after the perturbation?"
   ]
  },
  {
   "cell_type": "code",
   "execution_count": 35,
   "id": "d438eb5b",
   "metadata": {},
   "outputs": [
    {
     "data": {
      "text/plain": [
       "5"
      ]
     },
     "execution_count": 35,
     "metadata": {},
     "output_type": "execute_result"
    }
   ],
   "source": [
    "masked = predictions_typos[predictions['labels'] == predictions['Predictions']]\n",
    "len(masked[masked['labels'] != masked['Predictions']])"
   ]
  },
  {
   "cell_type": "markdown",
   "id": "451025ab",
   "metadata": {},
   "source": [
    "## Provide 3 examples when the model failed to assign the correct label after perturbation."
   ]
  },
  {
   "cell_type": "code",
   "execution_count": 36,
   "id": "baffaef5",
   "metadata": {},
   "outputs": [
    {
     "data": {
      "text/html": [
       "<div>\n",
       "<style scoped>\n",
       "    .dataframe tbody tr th:only-of-type {\n",
       "        vertical-align: middle;\n",
       "    }\n",
       "\n",
       "    .dataframe tbody tr th {\n",
       "        vertical-align: top;\n",
       "    }\n",
       "\n",
       "    .dataframe thead th {\n",
       "        text-align: right;\n",
       "    }\n",
       "</style>\n",
       "<table border=\"1\" class=\"dataframe\">\n",
       "  <thead>\n",
       "    <tr style=\"text-align: right;\">\n",
       "      <th></th>\n",
       "      <th>id</th>\n",
       "      <th>text</th>\n",
       "      <th>labels</th>\n",
       "      <th>Predictions</th>\n",
       "    </tr>\n",
       "  </thead>\n",
       "  <tbody>\n",
       "    <tr>\n",
       "      <th>11</th>\n",
       "      <td>21826</td>\n",
       "      <td>(cr1tikal vocie) msef my sasc eheks</td>\n",
       "      <td>1</td>\n",
       "      <td>0</td>\n",
       "    </tr>\n",
       "    <tr>\n",
       "      <th>30</th>\n",
       "      <td>76135</td>\n",
       "      <td>@USER @USER @USER @USER Beats the hlel NJ out ...</td>\n",
       "      <td>1</td>\n",
       "      <td>0</td>\n",
       "    </tr>\n",
       "    <tr>\n",
       "      <th>35</th>\n",
       "      <td>13433</td>\n",
       "      <td>#uCckservaitve Traitors Are Wore sThan Fortnti...</td>\n",
       "      <td>1</td>\n",
       "      <td>0</td>\n",
       "    </tr>\n",
       "    <tr>\n",
       "      <th>73</th>\n",
       "      <td>58690</td>\n",
       "      <td>#MAGA #KavanaugChonfirmationHearing spostponin...</td>\n",
       "      <td>0</td>\n",
       "      <td>1</td>\n",
       "    </tr>\n",
       "    <tr>\n",
       "      <th>95</th>\n",
       "      <td>45518</td>\n",
       "      <td>@USER He is obvioulsy getting ssupended. He is...</td>\n",
       "      <td>0</td>\n",
       "      <td>1</td>\n",
       "    </tr>\n",
       "  </tbody>\n",
       "</table>\n",
       "</div>"
      ],
      "text/plain": [
       "       id                                               text  labels  \\\n",
       "11  21826                (cr1tikal vocie) msef my sasc eheks       1   \n",
       "30  76135  @USER @USER @USER @USER Beats the hlel NJ out ...       1   \n",
       "35  13433  #uCckservaitve Traitors Are Wore sThan Fortnti...       1   \n",
       "73  58690  #MAGA #KavanaugChonfirmationHearing spostponin...       0   \n",
       "95  45518  @USER He is obvioulsy getting ssupended. He is...       0   \n",
       "\n",
       "    Predictions  \n",
       "11            0  \n",
       "30            0  \n",
       "35            0  \n",
       "73            1  \n",
       "95            1  "
      ]
     },
     "execution_count": 36,
     "metadata": {},
     "output_type": "execute_result"
    }
   ],
   "source": [
    "masked[masked['labels'] != masked['Predictions']]"
   ]
  },
  {
   "cell_type": "code",
   "execution_count": 53,
   "id": "e79461ce",
   "metadata": {},
   "outputs": [
    {
     "data": {
      "text/plain": [
       "'@USER He is obvioulsy getting ssupended. He is nto an asste for anyone'"
      ]
     },
     "execution_count": 53,
     "metadata": {},
     "output_type": "execute_result"
    }
   ],
   "source": [
    "predictions_typos.iloc[95, 1]"
   ]
  },
  {
   "cell_type": "markdown",
   "id": "946981c5",
   "metadata": {},
   "source": [
    "## What is the main source of the erroneous predictions produced by the model (main source of errors caused by typos)?"
   ]
  },
  {
   "cell_type": "code",
   "execution_count": 64,
   "id": "e40175bf",
   "metadata": {},
   "outputs": [
    {
     "data": {
      "text/plain": [
       "array([[33, 17],\n",
       "       [ 3, 47]])"
      ]
     },
     "execution_count": 64,
     "metadata": {},
     "output_type": "execute_result"
    }
   ],
   "source": [
    "confusion_matrix(y_true=y_true, y_pred=y_pred_typos, labels=[1, 0])"
   ]
  },
  {
   "cell_type": "code",
   "execution_count": 77,
   "id": "e7ba1180",
   "metadata": {},
   "outputs": [
    {
     "name": "stdout",
     "output_type": "stream",
     "text": [
      "FN: 17\n",
      "FP: 3\n"
     ]
    }
   ],
   "source": [
    "errors_typos = predictions_typos[predictions_typos['labels'] != predictions_typos['Predictions']]\n",
    "# False negatives\n",
    "print(\"FN:\", len(errors_typos[errors_typos['labels'] == 1]))\n",
    "print(\"FP:\", len(errors_typos[errors_typos['labels'] == 0]))"
   ]
  },
  {
   "cell_type": "code",
   "execution_count": 78,
   "id": "be1400e1",
   "metadata": {},
   "outputs": [
    {
     "name": "stdout",
     "output_type": "stream",
     "text": [
      "FN: 15\n",
      "FP: 2\n"
     ]
    }
   ],
   "source": [
    "errors = predictions[predictions['labels'] != predictions['Predictions']]\n",
    "# False negatives\n",
    "print(\"FN:\", len(errors[errors['labels'] == 1]))\n",
    "print(\"FP:\", len(errors[errors['labels'] == 0]))"
   ]
  }
 ],
 "metadata": {
  "kernelspec": {
   "display_name": "venv",
   "language": "python",
   "name": "venv"
  },
  "language_info": {
   "codemirror_mode": {
    "name": "ipython",
    "version": 3
   },
   "file_extension": ".py",
   "mimetype": "text/x-python",
   "name": "python",
   "nbconvert_exporter": "python",
   "pygments_lexer": "ipython3",
   "version": "3.8.9"
  }
 },
 "nbformat": 4,
 "nbformat_minor": 5
}
